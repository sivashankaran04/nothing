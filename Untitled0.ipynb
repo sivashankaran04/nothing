{
  "nbformat": 4,
  "nbformat_minor": 0,
  "metadata": {
    "colab": {
      "name": "Untitled0.ipynb",
      "provenance": [],
      "collapsed_sections": [],
      "toc_visible": true,
      "authorship_tag": "ABX9TyP4OsBHU5BPtE2kcEBtKWt6",
      "include_colab_link": true
    },
    "kernelspec": {
      "name": "python3",
      "display_name": "Python 3"
    },
    "language_info": {
      "name": "python"
    }
  },
  "cells": [
    {
      "cell_type": "markdown",
      "metadata": {
        "id": "view-in-github",
        "colab_type": "text"
      },
      "source": [
        "<a href=\"https://colab.research.google.com/github/sivashankaran04/python_bootcamp/blob/main/Untitled0.ipynb\" target=\"_parent\"><img src=\"https://colab.research.google.com/assets/colab-badge.svg\" alt=\"Open In Colab\"/></a>"
      ]
    },
    {
      "cell_type": "code",
      "execution_count": 1,
      "metadata": {
        "colab": {
          "base_uri": "https://localhost:8080/",
          "height": 235
        },
        "id": "Q2M0SxewE68L",
        "outputId": "433d79a3-e36b-4bb9-e66e-87e236634677"
      },
      "outputs": [
        {
          "output_type": "error",
          "ename": "FileNotFoundError",
          "evalue": "ignored",
          "traceback": [
            "\u001b[0;31m---------------------------------------------------------------------------\u001b[0m",
            "\u001b[0;31mFileNotFoundError\u001b[0m                         Traceback (most recent call last)",
            "\u001b[0;32m<ipython-input-1-a4acb0f5c83b>\u001b[0m in \u001b[0;36m<module>\u001b[0;34m()\u001b[0m\n\u001b[1;32m      2\u001b[0m \u001b[0;34m\u001b[0m\u001b[0m\n\u001b[1;32m      3\u001b[0m \u001b[0;31m# Open the file\u001b[0m\u001b[0;34m\u001b[0m\u001b[0;34m\u001b[0m\u001b[0;34m\u001b[0m\u001b[0m\n\u001b[0;32m----> 4\u001b[0;31m \u001b[0mcityTemp\u001b[0m \u001b[0;34m=\u001b[0m \u001b[0mopen\u001b[0m\u001b[0;34m(\u001b[0m\u001b[0;34m\"citytemp.csv\"\u001b[0m\u001b[0;34m)\u001b[0m\u001b[0;34m\u001b[0m\u001b[0;34m\u001b[0m\u001b[0m\n\u001b[0m\u001b[1;32m      5\u001b[0m \u001b[0;34m\u001b[0m\u001b[0m\n\u001b[1;32m      6\u001b[0m \u001b[0;31m# Read the first record and split into variables\u001b[0m\u001b[0;34m\u001b[0m\u001b[0;34m\u001b[0m\u001b[0;34m\u001b[0m\u001b[0m\n",
            "\u001b[0;31mFileNotFoundError\u001b[0m: [Errno 2] No such file or directory: 'citytemp.csv'"
          ]
        }
      ],
      "source": [
        "#1. Write a Python Program to print the Average Temperature per city\n",
        "\n",
        "# Open the file\n",
        "cityTemp = open(\"citytemp.csv\")\n",
        "\n",
        "# Read the first record and split into variables\n",
        "rec1 = cityTemp.readline()\n",
        "city, temperature, unit = rec1.split(',')\n",
        "prev_city = city\n",
        "\n",
        "# Position the pointer to the first record\n",
        "cityTemp.seek(0)\n",
        "\n",
        "# Initialise the variables\n",
        "tempSum = 0.0\n",
        "count = 0\n",
        "averageTemp = 0.0\n",
        "\n",
        "# Run the loop to read all the records and do the processing\n",
        "for records in cityTemp:\n",
        "    records = records.rstrip('\\n')\n",
        "    city, temperature, unit = records.split(',')\n",
        "    \n",
        "    if unit == \"C\":\n",
        "        temperature = (float(temperature) * 9/5) + 32\n",
        "\n",
        "    if city != prev_city:\n",
        "        averageTemp = tempSum/count\n",
        "        print(prev_city + \"  \" + str(round(averageTemp,2)))\n",
        "        prev_city = city\n",
        "        tempSum = 0.0\n",
        "        count = 0\n",
        "        averageTemp = 0.0\n",
        "    tempSum = tempSum + float(temperature)\n",
        "    count = count + 1\n",
        "else:\n",
        "    averageTemp = tempSum/count\n",
        "    print(prev_city + \"  \" + str(round(averageTemp,2)))"
      ]
    },
    {
      "cell_type": "markdown",
      "source": [
        "# New Section"
      ],
      "metadata": {
        "id": "UODZxeOmrgmV"
      }
    },
    {
      "cell_type": "code",
      "source": [
        "from google.colab import drive\n",
        "drive.mount('/content/drive')"
      ],
      "metadata": {
        "id": "PbrZeSQPq0OP"
      },
      "execution_count": null,
      "outputs": []
    },
    {
      "cell_type": "code",
      "source": [
        "# Write a Program to implement Linear Regression to predict the Price of a house using the approprite CSV file\n",
        "\n",
        "import pandas as pd\n",
        "import numpy as np\n",
        "import matplotlib.pyplot as plt\n",
        "import seaborn as sns\n",
        "\n",
        "%matplotlib inline\n",
        "\n",
        "USAhousing = pd.read_csv('USA_Housing.csv')\n",
        "\n",
        "# Columns as features\n",
        "X = USAhousing[['Avg. Area Income', 'Avg. Area House Age', 'Avg. Area Number of Rooms',\n",
        "               'Avg. Area Number of Bedrooms', 'Area Population']]\n",
        "#price is my target variable, what we trying to predict\n",
        "y = USAhousing['Price']\n",
        "\n",
        "#spilting the data into training set and test set\n",
        "from sklearn.model_selection import train_test_split\n",
        "\n",
        "X_train, X_test, y_train, y_test = train_test_split(X,y, test_size=0.3, random_state=42)\n",
        "\"\"\"\n",
        "from sklearn.preprocessing import StandardScaler\n",
        "from sklearn.pipeline import Pipeline\n",
        "\n",
        "pipeline = Pipeline([\n",
        "    ('std_scalar', StandardScaler())\n",
        "])\n",
        "\n",
        "X_train = pipeline.fit_transform(X_train)\n",
        "X_test = pipeline.transform(X_test)\n",
        "\"\"\"\n",
        "#Importing the linear regression algorithm\n",
        "from sklearn.linear_model import LinearRegression\n",
        "\n",
        "lin_reg = LinearRegression(normalize=True)\n",
        "lin_reg.fit(X_train,y_train)\n",
        "\n",
        "pred = lin_reg.predict(X_test)\n",
        "plt.scatter(y_test, pred, edgecolor='black')"
      ],
      "metadata": {
        "id": "smTVJwSyGKhJ"
      },
      "execution_count": null,
      "outputs": []
    },
    {
      "cell_type": "markdown",
      "source": [
        "# New Section\n",
        "\n",
        "---\n",
        "\n"
      ],
      "metadata": {
        "id": "tkLmsMLRFXDU"
      }
    },
    {
      "cell_type": "code",
      "source": [
        "# Import the pyplot\n",
        "import matplotlib.pyplot as plt\n",
        "\n",
        "# Open and read the file\n",
        "f = open('agedata.csv')\n",
        "agefile = f.readlines()\n",
        "\n",
        "age_list = []\n",
        "\n",
        "# Append the list with the age data\n",
        "for records in agefile:\n",
        "    age_list.append(int(records))\n",
        "\n",
        "# Create bins list for histogram\n",
        "bins = [0,10,20,30,40,50,60,70,80,90,100]\n",
        "\n",
        "# Change the chart labels\n",
        "plt.title(\"Age histogram\")\n",
        "plt.xlabel(\"Group\")\n",
        "plt.ylabel(\"Age\")\n",
        "\n",
        "# Create the plot\n",
        "plt.hist(age_list, bins, histtype='bar', rwidth=0.9)\n",
        "\n",
        "# Show the Plot\n",
        "plt.show()"
      ],
      "metadata": {
        "colab": {
          "base_uri": "https://localhost:8080/",
          "height": 295
        },
        "id": "K0zBvX7YH1P2",
        "outputId": "e44663d2-8a04-498a-8e5c-a3c8a37c8b75"
      },
      "execution_count": null,
      "outputs": [
        {
          "output_type": "display_data",
          "data": {
            "image/png": "[encoded data removed]",
            "text/plain": [
              "<Figure size 432x288 with 1 Axes>"
            ]
          },
          "metadata": {
            "needs_background": "light"
          }
        }
      ]
    },
    {
      "cell_type": "markdown",
      "source": [
        "# New Section"
      ],
      "metadata": {
        "id": "sibGlqSoITQF"
      }
    },
    {
      "cell_type": "code",
      "source": [
        " #Write program in Python to Create the bar chart for the temperature variation\n",
        "\n",
        "# Import pyplot\n",
        "import matplotlib.pyplot as plt\n",
        "\n",
        "# Create a list of cities and temperatures\n",
        "x_cities = ['NewYork', 'London', 'Dubai', 'New Delhi','Tokyo']\n",
        "y_temp = [75,65,105,98,90]\n",
        "\n",
        "# Change the chart labels\n",
        "plt.title(\"Temperaure Variation\")\n",
        "plt.xlabel(\"Cities\")\n",
        "plt.ylabel(\"Temperature\")\n",
        "\n",
        "# Create the Bar chart\n",
        "plt.bar(x_cities,y_temp)\n",
        "\n",
        "# Show the Plot\n",
        "plt.show()"
      ],
      "metadata": {
        "colab": {
          "base_uri": "https://localhost:8080/",
          "height": 295
        },
        "id": "03sTDQNRMv6_",
        "outputId": "a4ca4ae3-7a0c-4e7d-b710-68f3533bac2f"
      },
      "execution_count": null,
      "outputs": [
        {
          "output_type": "display_data",
          "data": {
            "image/png": "[encoded data removed]",
            "text/plain": [
              "<Figure size 432x288 with 1 Axes>"
            ]
          },
          "metadata": {
            "needs_background": "light"
          }
        }
      ]
    },
    {
      "cell_type": "code",
      "source": [
        "#Write a program in Python to create the box plot of sales data from the file\n",
        "\n",
        "# Import pyplot\n",
        "import matplotlib.pyplot as plt\n",
        "\n",
        "# Open the file in read mode and read lines\n",
        "f = open('salesdata.csv','r')\n",
        "salefile = f.readlines()\n",
        "\n",
        "# Create the sales List\n",
        "sale_list = []\n",
        "\n",
        "# Append all the records from the file to the saleslist\n",
        "for records in salefile:\n",
        "    sale_list.append(int(records))\n",
        "\n",
        "# Change the chart labels\n",
        "plt.title(\"Box Plot of Sales\")\n",
        "\n",
        "# Create the plot\n",
        "plt.boxplot(sale_list)\n",
        "\n",
        "# Show the Plot\n",
        "plt.show()"
      ],
      "metadata": {
        "colab": {
          "base_uri": "https://localhost:8080/",
          "height": 281
        },
        "id": "tPnH17ChPB3D",
        "outputId": "fab89c96-c961-4326-dbc5-5458610f12c1"
      },
      "execution_count": null,
      "outputs": [
        {
          "output_type": "display_data",
          "data": {
            "image/png": "[encoded data removed]",
            "text/plain": [
              "<Figure size 432x288 with 1 Axes>"
            ]
          },
          "metadata": {
            "needs_background": "light"
          }
        }
      ]
    },
    {
      "cell_type": "code",
      "source": [
        "#Write a program in Python  Create the scatter plot of Sales Vs cost from the file data\n",
        "\n",
        "# Import pyplot\n",
        "import matplotlib.pyplot as plt\n",
        "\n",
        "# Open the file in read mode and read lines\n",
        "f = open('salesdata2.csv','r')\n",
        "salefile = f.readlines()\n",
        "\n",
        "# Create the sales List\n",
        "s_list = []\n",
        "c_list = []\n",
        "\n",
        "# Append all the records from the file to the saleslist\n",
        "for records in salefile:\n",
        "    sale, cost = records.split(sep=',')\n",
        "    s_list.append(int(sale))\n",
        "    c_list.append(int(cost))\n",
        "    \n",
        "\n",
        "# Change the chart labels\n",
        "plt.title(\"Sales Vs Cost\")\n",
        "plt.xlabel(\"Sale\")\n",
        "plt.ylabel(\"Cost\")\n",
        "\n",
        "# Create the scatter plot\n",
        "plt.scatter(s_list,c_list)\n",
        "plt.show()"
      ],
      "metadata": {
        "colab": {
          "base_uri": "https://localhost:8080/",
          "height": 295
        },
        "id": "wRUoGkn3QJcB",
        "outputId": "5233b058-46cf-42fe-c73b-26ad6469aa60"
      },
      "execution_count": null,
      "outputs": [
        {
          "output_type": "display_data",
          "data": {
            "image/png": "[encoded data removed]",
            "text/plain": [
              "<Figure size 432x288 with 1 Axes>"
            ]
          },
          "metadata": {
            "needs_background": "light"
          }
        }
      ]
    },
    {
      "cell_type": "code",
      "source": [
        "#Write a program in Python  Create separate plots in different figures\n",
        "\n",
        "# Import pyplot\n",
        "import matplotlib.pyplot as plt\n",
        "\n",
        "# Open the file in read mode and read lines\n",
        "f = open('salesdata2.csv','r')\n",
        "salefile = f.readlines()\n",
        "\n",
        "# Create the sales List\n",
        "sale_list = []\n",
        "s_list = []\n",
        "c_list = []\n",
        "\n",
        "# Append all the records from the file to the saleslist\n",
        "for records in salefile:\n",
        "    sale, cost = records.split(sep=',')\n",
        "    s_list.append(int(sale))\n",
        "    c_list.append(int(cost))\n",
        "    \n",
        "# Create a list of lists\n",
        "sale_list.append(s_list)\n",
        "sale_list.append(c_list)\n",
        "\n",
        "# Plot the Scatter Plot\n",
        "plt.figure('My Scatter Plot')\n",
        "plt.title(\"Sales Vs Cost\")\n",
        "plt.xlabel(\"Sale\")\n",
        "plt.ylabel(\"Cost\")\n",
        "plt.scatter(s_list,c_list)\n",
        "plt.savefig('01scatter.png')\n",
        "\n",
        "# Plot the Boxplot\n",
        "plt.figure('My Boxplot')\n",
        "plt.title(\"Box Plot of Sales\")\n",
        "plt.ylabel(\"USD\")\n",
        "plt.boxplot(sale_list)\n",
        "plt.savefig('01boxplot.png')\n",
        "\n",
        "# Show plots\n",
        "plt.show()"
      ],
      "metadata": {
        "id": "UQihC2MsT4NT",
        "colab": {
          "base_uri": "https://localhost:8080/",
          "height": 235
        },
        "outputId": "8f7d5a12-eac4-4b67-9658-3b64fc5701a6"
      },
      "execution_count": 2,
      "outputs": [
        {
          "output_type": "error",
          "ename": "FileNotFoundError",
          "evalue": "ignored",
          "traceback": [
            "\u001b[0;31m---------------------------------------------------------------------------\u001b[0m",
            "\u001b[0;31mFileNotFoundError\u001b[0m                         Traceback (most recent call last)",
            "\u001b[0;32m<ipython-input-2-3bf722ee36df>\u001b[0m in \u001b[0;36m<module>\u001b[0;34m()\u001b[0m\n\u001b[1;32m      5\u001b[0m \u001b[0;34m\u001b[0m\u001b[0m\n\u001b[1;32m      6\u001b[0m \u001b[0;31m# Open the file in read mode and read lines\u001b[0m\u001b[0;34m\u001b[0m\u001b[0;34m\u001b[0m\u001b[0;34m\u001b[0m\u001b[0m\n\u001b[0;32m----> 7\u001b[0;31m \u001b[0mf\u001b[0m \u001b[0;34m=\u001b[0m \u001b[0mopen\u001b[0m\u001b[0;34m(\u001b[0m\u001b[0;34m'salesdata2.csv'\u001b[0m\u001b[0;34m,\u001b[0m\u001b[0;34m'r'\u001b[0m\u001b[0;34m)\u001b[0m\u001b[0;34m\u001b[0m\u001b[0;34m\u001b[0m\u001b[0m\n\u001b[0m\u001b[1;32m      8\u001b[0m \u001b[0msalefile\u001b[0m \u001b[0;34m=\u001b[0m \u001b[0mf\u001b[0m\u001b[0;34m.\u001b[0m\u001b[0mreadlines\u001b[0m\u001b[0;34m(\u001b[0m\u001b[0;34m)\u001b[0m\u001b[0;34m\u001b[0m\u001b[0;34m\u001b[0m\u001b[0m\n\u001b[1;32m      9\u001b[0m \u001b[0;34m\u001b[0m\u001b[0m\n",
            "\u001b[0;31mFileNotFoundError\u001b[0m: [Errno 2] No such file or directory: 'salesdata2.csv'"
          ]
        }
      ]
    },
    {
      "cell_type": "code",
      "source": [
        " Write a program in Python  to  create the subplots of multiple plots in one figure\n",
        "\n",
        "# Import pyplot\n",
        "import matplotlib.pyplot as plt\n",
        "\n",
        "# Open the file in read mode and read lines\n",
        "f = open('salesdata2.csv','r')\n",
        "salefile = f.readlines()\n",
        "\n",
        "# Create the sales List\n",
        "sale_list = []\n",
        "s_list = []\n",
        "c_list = []\n",
        "\n",
        "# Append all the records from the file to the saleslist\n",
        "for records in salefile:\n",
        "    sale, cost = records.split(sep=',')\n",
        "    s_list.append(int(sale))\n",
        "    c_list.append(int(cost))\n",
        "    \n",
        "# Create list of lists\n",
        "sale_list.append(s_list)\n",
        "sale_list.append(c_list)\n",
        "\n",
        "# Subplot 1 for Scatter Plot\n",
        "plt.subplot(2,2,1)\n",
        "plt.title(\"Sales Vs Cost\")\n",
        "plt.xlabel(\"Sale\")\n",
        "plt.ylabel(\"Cost\")\n",
        "plt.scatter(s_list,c_list)\n",
        "\n",
        "# Subplot 2 for Boxplot\n",
        "plt.subplot(2,2,2)\n",
        "plt.title(\"Box Plot of Sales\")\n",
        "plt.ylabel(\"USD\")\n",
        "plt.boxplot(sale_list)\n",
        "plt.show()\n",
        "\n",
        "# Subplot 3 for Histogram of sales\n",
        "plt.subplot(2,2,3)\n",
        "plt.title(\"Histogram of Sales\")\n",
        "plt.ylabel(\"USD\")\n",
        "plt.hist(s_list, bins=5, rwidth=0.9)\n",
        "\n",
        "# Subplot 4 for lineplot of stock\n",
        "x_days  = [1,2,3,4,5]\n",
        "y_price1 = [9,9.5,10.1,10,12]\n",
        "\n",
        "plt.subplot(2,2,4)\n",
        "plt.title(\"Stockprice History\")\n",
        "plt.ylabel(\"Price\")\n",
        "plt.xlabel(\"Day\")\n",
        "plt.plot(x_days, y_price1)\n",
        "\n",
        "# tight_layout to avoid overlap\n",
        "plt.tight_layout()\n",
        "\n",
        "# Save the figure as the png picture file\n",
        "plt.savefig('01subplot.png')\n",
        "\n",
        "# Show the plots\n",
        "plt.show()"
      ],
      "metadata": {
        "id": "BAx0tTkLwB49"
      },
      "execution_count": null,
      "outputs": []
    }
  ]
}